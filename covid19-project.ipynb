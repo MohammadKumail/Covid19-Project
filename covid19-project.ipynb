{
 "cells": [
  {
   "cell_type": "markdown",
   "metadata": {
    "papermill": {
     "duration": 0.021159,
     "end_time": "2020-12-15T15:34:16.764102",
     "exception": false,
     "start_time": "2020-12-15T15:34:16.742943",
     "status": "completed"
    },
    "tags": []
   },
   "source": [
    "# MOHAMMAD KUMAIL PROJECT"
   ]
  },
  {
   "cell_type": "markdown",
   "metadata": {
    "papermill": {
     "duration": 0.019006,
     "end_time": "2020-12-15T15:34:16.803025",
     "exception": false,
     "start_time": "2020-12-15T15:34:16.784019",
     "status": "completed"
    },
    "tags": []
   },
   "source": [
    "# Import Libraries"
   ]
  },
  {
   "cell_type": "code",
   "execution_count": 1,
   "metadata": {
    "_cell_guid": "b1076dfc-b9ad-4769-8c92-a6c4dae69d19",
    "_uuid": "8f2839f25d086af736a60e9eeb907d3b93b6e0e5",
    "execution": {
     "iopub.execute_input": "2020-12-15T15:34:16.852547Z",
     "iopub.status.busy": "2020-12-15T15:34:16.851829Z",
     "iopub.status.idle": "2020-12-15T15:34:16.898038Z",
     "shell.execute_reply": "2020-12-15T15:34:16.898579Z"
    },
    "papermill": {
     "duration": 0.076389,
     "end_time": "2020-12-15T15:34:16.898747",
     "exception": false,
     "start_time": "2020-12-15T15:34:16.822358",
     "status": "completed"
    },
    "tags": []
   },
   "outputs": [
    {
     "data": {
      "text/html": [
       "<div>\n",
       "<style scoped>\n",
       "    .dataframe tbody tr th:only-of-type {\n",
       "        vertical-align: middle;\n",
       "    }\n",
       "\n",
       "    .dataframe tbody tr th {\n",
       "        vertical-align: top;\n",
       "    }\n",
       "\n",
       "    .dataframe thead th {\n",
       "        text-align: right;\n",
       "    }\n",
       "</style>\n",
       "<table border=\"1\" class=\"dataframe\">\n",
       "  <thead>\n",
       "    <tr style=\"text-align: right;\">\n",
       "      <th></th>\n",
       "      <th>Province_State</th>\n",
       "      <th>Country_Region</th>\n",
       "      <th>Last_Update</th>\n",
       "      <th>Confirmed</th>\n",
       "      <th>Deaths</th>\n",
       "      <th>Recovered</th>\n",
       "      <th>Active</th>\n",
       "    </tr>\n",
       "  </thead>\n",
       "  <tbody>\n",
       "    <tr>\n",
       "      <th>0</th>\n",
       "      <td>NaN</td>\n",
       "      <td>Afghanistan</td>\n",
       "      <td>13-12-20 5:27</td>\n",
       "      <td>48229</td>\n",
       "      <td>1956</td>\n",
       "      <td>38200</td>\n",
       "      <td>8073.0</td>\n",
       "    </tr>\n",
       "    <tr>\n",
       "      <th>1</th>\n",
       "      <td>NaN</td>\n",
       "      <td>Albania</td>\n",
       "      <td>13-12-20 5:27</td>\n",
       "      <td>47742</td>\n",
       "      <td>989</td>\n",
       "      <td>24520</td>\n",
       "      <td>22233.0</td>\n",
       "    </tr>\n",
       "    <tr>\n",
       "      <th>2</th>\n",
       "      <td>NaN</td>\n",
       "      <td>Algeria</td>\n",
       "      <td>13-12-20 5:27</td>\n",
       "      <td>91638</td>\n",
       "      <td>2584</td>\n",
       "      <td>60028</td>\n",
       "      <td>29026.0</td>\n",
       "    </tr>\n",
       "    <tr>\n",
       "      <th>3</th>\n",
       "      <td>NaN</td>\n",
       "      <td>Andorra</td>\n",
       "      <td>13-12-20 5:27</td>\n",
       "      <td>7288</td>\n",
       "      <td>78</td>\n",
       "      <td>6629</td>\n",
       "      <td>581.0</td>\n",
       "    </tr>\n",
       "    <tr>\n",
       "      <th>4</th>\n",
       "      <td>NaN</td>\n",
       "      <td>Angola</td>\n",
       "      <td>13-12-20 5:27</td>\n",
       "      <td>16161</td>\n",
       "      <td>366</td>\n",
       "      <td>8841</td>\n",
       "      <td>6954.0</td>\n",
       "    </tr>\n",
       "    <tr>\n",
       "      <th>...</th>\n",
       "      <td>...</td>\n",
       "      <td>...</td>\n",
       "      <td>...</td>\n",
       "      <td>...</td>\n",
       "      <td>...</td>\n",
       "      <td>...</td>\n",
       "      <td>...</td>\n",
       "    </tr>\n",
       "    <tr>\n",
       "      <th>3971</th>\n",
       "      <td>NaN</td>\n",
       "      <td>Vietnam</td>\n",
       "      <td>13-12-20 5:27</td>\n",
       "      <td>1395</td>\n",
       "      <td>35</td>\n",
       "      <td>1238</td>\n",
       "      <td>122.0</td>\n",
       "    </tr>\n",
       "    <tr>\n",
       "      <th>3972</th>\n",
       "      <td>NaN</td>\n",
       "      <td>West Bank and Gaza</td>\n",
       "      <td>13-12-20 5:27</td>\n",
       "      <td>108099</td>\n",
       "      <td>961</td>\n",
       "      <td>83123</td>\n",
       "      <td>24015.0</td>\n",
       "    </tr>\n",
       "    <tr>\n",
       "      <th>3973</th>\n",
       "      <td>NaN</td>\n",
       "      <td>Yemen</td>\n",
       "      <td>13-12-20 5:27</td>\n",
       "      <td>2083</td>\n",
       "      <td>606</td>\n",
       "      <td>1383</td>\n",
       "      <td>94.0</td>\n",
       "    </tr>\n",
       "    <tr>\n",
       "      <th>3974</th>\n",
       "      <td>NaN</td>\n",
       "      <td>Zambia</td>\n",
       "      <td>13-12-20 5:27</td>\n",
       "      <td>18217</td>\n",
       "      <td>366</td>\n",
       "      <td>17339</td>\n",
       "      <td>512.0</td>\n",
       "    </tr>\n",
       "    <tr>\n",
       "      <th>3975</th>\n",
       "      <td>NaN</td>\n",
       "      <td>Zimbabwe</td>\n",
       "      <td>13-12-20 5:27</td>\n",
       "      <td>11219</td>\n",
       "      <td>307</td>\n",
       "      <td>9359</td>\n",
       "      <td>1553.0</td>\n",
       "    </tr>\n",
       "  </tbody>\n",
       "</table>\n",
       "<p>3976 rows × 7 columns</p>\n",
       "</div>"
      ],
      "text/plain": [
       "     Province_State      Country_Region    Last_Update  Confirmed  Deaths  \\\n",
       "0               NaN         Afghanistan  13-12-20 5:27      48229    1956   \n",
       "1               NaN             Albania  13-12-20 5:27      47742     989   \n",
       "2               NaN             Algeria  13-12-20 5:27      91638    2584   \n",
       "3               NaN             Andorra  13-12-20 5:27       7288      78   \n",
       "4               NaN              Angola  13-12-20 5:27      16161     366   \n",
       "...             ...                 ...            ...        ...     ...   \n",
       "3971            NaN             Vietnam  13-12-20 5:27       1395      35   \n",
       "3972            NaN  West Bank and Gaza  13-12-20 5:27     108099     961   \n",
       "3973            NaN               Yemen  13-12-20 5:27       2083     606   \n",
       "3974            NaN              Zambia  13-12-20 5:27      18217     366   \n",
       "3975            NaN            Zimbabwe  13-12-20 5:27      11219     307   \n",
       "\n",
       "      Recovered   Active  \n",
       "0         38200   8073.0  \n",
       "1         24520  22233.0  \n",
       "2         60028  29026.0  \n",
       "3          6629    581.0  \n",
       "4          8841   6954.0  \n",
       "...         ...      ...  \n",
       "3971       1238    122.0  \n",
       "3972      83123  24015.0  \n",
       "3973       1383     94.0  \n",
       "3974      17339    512.0  \n",
       "3975       9359   1553.0  \n",
       "\n",
       "[3976 rows x 7 columns]"
      ]
     },
     "execution_count": 1,
     "metadata": {},
     "output_type": "execute_result"
    }
   ],
   "source": [
    "import numpy as np\n",
    "import pandas as pd\n",
    "from matplotlib import pyplot as plt\n",
    "\n",
    "my_data = pd.read_csv('../input/covid19-newdataset/12-12-2020.csv')\n",
    "\n",
    "my_frame = pd.DataFrame(my_data)\n",
    "my_frame"
   ]
  },
  {
   "cell_type": "markdown",
   "metadata": {
    "papermill": {
     "duration": 0.020481,
     "end_time": "2020-12-15T15:34:16.940390",
     "exception": false,
     "start_time": "2020-12-15T15:34:16.919909",
     "status": "completed"
    },
    "tags": []
   },
   "source": [
    "# Task # 1"
   ]
  },
  {
   "cell_type": "code",
   "execution_count": 2,
   "metadata": {
    "execution": {
     "iopub.execute_input": "2020-12-15T15:34:16.995250Z",
     "iopub.status.busy": "2020-12-15T15:34:16.994325Z",
     "iopub.status.idle": "2020-12-15T15:34:16.999167Z",
     "shell.execute_reply": "2020-12-15T15:34:16.998602Z"
    },
    "papermill": {
     "duration": 0.038245,
     "end_time": "2020-12-15T15:34:16.999291",
     "exception": false,
     "start_time": "2020-12-15T15:34:16.961046",
     "status": "completed"
    },
    "tags": []
   },
   "outputs": [
    {
     "data": {
      "text/html": [
       "<div>\n",
       "<style scoped>\n",
       "    .dataframe tbody tr th:only-of-type {\n",
       "        vertical-align: middle;\n",
       "    }\n",
       "\n",
       "    .dataframe tbody tr th {\n",
       "        vertical-align: top;\n",
       "    }\n",
       "\n",
       "    .dataframe thead th {\n",
       "        text-align: right;\n",
       "    }\n",
       "</style>\n",
       "<table border=\"1\" class=\"dataframe\">\n",
       "  <thead>\n",
       "    <tr style=\"text-align: right;\">\n",
       "      <th></th>\n",
       "      <th>Province_State</th>\n",
       "      <th>Country_Region</th>\n",
       "      <th>Last_Update</th>\n",
       "      <th>Confirmed</th>\n",
       "      <th>Deaths</th>\n",
       "      <th>Recovered</th>\n",
       "      <th>Active</th>\n",
       "    </tr>\n",
       "  </thead>\n",
       "  <tbody>\n",
       "    <tr>\n",
       "      <th>0</th>\n",
       "      <td>NaN</td>\n",
       "      <td>Afghanistan</td>\n",
       "      <td>13-12-20 5:27</td>\n",
       "      <td>48229</td>\n",
       "      <td>1956</td>\n",
       "      <td>38200</td>\n",
       "      <td>8073.0</td>\n",
       "    </tr>\n",
       "    <tr>\n",
       "      <th>1</th>\n",
       "      <td>NaN</td>\n",
       "      <td>Albania</td>\n",
       "      <td>13-12-20 5:27</td>\n",
       "      <td>47742</td>\n",
       "      <td>989</td>\n",
       "      <td>24520</td>\n",
       "      <td>22233.0</td>\n",
       "    </tr>\n",
       "    <tr>\n",
       "      <th>2</th>\n",
       "      <td>NaN</td>\n",
       "      <td>Algeria</td>\n",
       "      <td>13-12-20 5:27</td>\n",
       "      <td>91638</td>\n",
       "      <td>2584</td>\n",
       "      <td>60028</td>\n",
       "      <td>29026.0</td>\n",
       "    </tr>\n",
       "    <tr>\n",
       "      <th>3</th>\n",
       "      <td>NaN</td>\n",
       "      <td>Andorra</td>\n",
       "      <td>13-12-20 5:27</td>\n",
       "      <td>7288</td>\n",
       "      <td>78</td>\n",
       "      <td>6629</td>\n",
       "      <td>581.0</td>\n",
       "    </tr>\n",
       "    <tr>\n",
       "      <th>4</th>\n",
       "      <td>NaN</td>\n",
       "      <td>Angola</td>\n",
       "      <td>13-12-20 5:27</td>\n",
       "      <td>16161</td>\n",
       "      <td>366</td>\n",
       "      <td>8841</td>\n",
       "      <td>6954.0</td>\n",
       "    </tr>\n",
       "  </tbody>\n",
       "</table>\n",
       "</div>"
      ],
      "text/plain": [
       "  Province_State Country_Region    Last_Update  Confirmed  Deaths  Recovered  \\\n",
       "0            NaN    Afghanistan  13-12-20 5:27      48229    1956      38200   \n",
       "1            NaN        Albania  13-12-20 5:27      47742     989      24520   \n",
       "2            NaN        Algeria  13-12-20 5:27      91638    2584      60028   \n",
       "3            NaN        Andorra  13-12-20 5:27       7288      78       6629   \n",
       "4            NaN         Angola  13-12-20 5:27      16161     366       8841   \n",
       "\n",
       "    Active  \n",
       "0   8073.0  \n",
       "1  22233.0  \n",
       "2  29026.0  \n",
       "3    581.0  \n",
       "4   6954.0  "
      ]
     },
     "execution_count": 2,
     "metadata": {},
     "output_type": "execute_result"
    }
   ],
   "source": [
    "# 1): Write a Python program to display the first 5 rows from COVID-19 dataset.\n",
    "#   Also print the dataset information and check the missing values.\n",
    "\n",
    "my_frame.head(5)"
   ]
  },
  {
   "cell_type": "code",
   "execution_count": 3,
   "metadata": {
    "_cell_guid": "79c7e3d0-c299-4dcb-8224-4455121ee9b0",
    "_uuid": "d629ff2d2480ee46fbb7e2d37f6b5fab8052498a",
    "execution": {
     "iopub.execute_input": "2020-12-15T15:34:17.045005Z",
     "iopub.status.busy": "2020-12-15T15:34:17.044324Z",
     "iopub.status.idle": "2020-12-15T15:34:17.061871Z",
     "shell.execute_reply": "2020-12-15T15:34:17.061072Z"
    },
    "papermill": {
     "duration": 0.041554,
     "end_time": "2020-12-15T15:34:17.062031",
     "exception": false,
     "start_time": "2020-12-15T15:34:17.020477",
     "status": "completed"
    },
    "tags": []
   },
   "outputs": [
    {
     "name": "stdout",
     "output_type": "stream",
     "text": [
      "<class 'pandas.core.frame.DataFrame'>\n",
      "RangeIndex: 3976 entries, 0 to 3975\n",
      "Data columns (total 7 columns):\n",
      " #   Column          Non-Null Count  Dtype  \n",
      "---  ------          --------------  -----  \n",
      " 0   Province_State  3806 non-null   object \n",
      " 1   Country_Region  3976 non-null   object \n",
      " 2   Last_Update     3976 non-null   object \n",
      " 3   Confirmed       3976 non-null   int64  \n",
      " 4   Deaths          3976 non-null   int64  \n",
      " 5   Recovered       3976 non-null   int64  \n",
      " 6   Active          3974 non-null   float64\n",
      "dtypes: float64(1), int64(3), object(3)\n",
      "memory usage: 217.6+ KB\n"
     ]
    }
   ],
   "source": [
    "my_frame.info()"
   ]
  },
  {
   "cell_type": "code",
   "execution_count": 4,
   "metadata": {
    "execution": {
     "iopub.execute_input": "2020-12-15T15:34:17.114916Z",
     "iopub.status.busy": "2020-12-15T15:34:17.114184Z",
     "iopub.status.idle": "2020-12-15T15:34:17.117969Z",
     "shell.execute_reply": "2020-12-15T15:34:17.118479Z"
    },
    "papermill": {
     "duration": 0.034645,
     "end_time": "2020-12-15T15:34:17.118618",
     "exception": false,
     "start_time": "2020-12-15T15:34:17.083973",
     "status": "completed"
    },
    "tags": []
   },
   "outputs": [
    {
     "data": {
      "text/plain": [
       "Province_State    170\n",
       "Country_Region      0\n",
       "Last_Update         0\n",
       "Confirmed           0\n",
       "Deaths              0\n",
       "Recovered           0\n",
       "Active              2\n",
       "dtype: int64"
      ]
     },
     "execution_count": 4,
     "metadata": {},
     "output_type": "execute_result"
    }
   ],
   "source": [
    "my_frame.isna().sum()"
   ]
  },
  {
   "cell_type": "markdown",
   "metadata": {
    "papermill": {
     "duration": 0.021725,
     "end_time": "2020-12-15T15:34:17.162313",
     "exception": false,
     "start_time": "2020-12-15T15:34:17.140588",
     "status": "completed"
    },
    "tags": []
   },
   "source": [
    "# Task # 2"
   ]
  },
  {
   "cell_type": "code",
   "execution_count": 5,
   "metadata": {
    "execution": {
     "iopub.execute_input": "2020-12-15T15:34:17.209844Z",
     "iopub.status.busy": "2020-12-15T15:34:17.209154Z",
     "iopub.status.idle": "2020-12-15T15:34:17.232731Z",
     "shell.execute_reply": "2020-12-15T15:34:17.233334Z"
    },
    "papermill": {
     "duration": 0.049122,
     "end_time": "2020-12-15T15:34:17.233482",
     "exception": false,
     "start_time": "2020-12-15T15:34:17.184360",
     "status": "completed"
    },
    "tags": []
   },
   "outputs": [
    {
     "name": "stderr",
     "output_type": "stream",
     "text": [
      "/opt/conda/lib/python3.7/site-packages/ipykernel_launcher.py:4: FutureWarning: Indexing with multiple keys (implicitly converted to a tuple of keys) will be deprecated, use a list instead.\n",
      "  after removing the cwd from sys.path.\n"
     ]
    },
    {
     "data": {
      "text/html": [
       "<div>\n",
       "<style scoped>\n",
       "    .dataframe tbody tr th:only-of-type {\n",
       "        vertical-align: middle;\n",
       "    }\n",
       "\n",
       "    .dataframe tbody tr th {\n",
       "        vertical-align: top;\n",
       "    }\n",
       "\n",
       "    .dataframe thead th {\n",
       "        text-align: right;\n",
       "    }\n",
       "</style>\n",
       "<table border=\"1\" class=\"dataframe\">\n",
       "  <thead>\n",
       "    <tr style=\"text-align: right;\">\n",
       "      <th></th>\n",
       "      <th>Confirmed</th>\n",
       "      <th>Deaths</th>\n",
       "      <th>Recovered</th>\n",
       "      <th>Active</th>\n",
       "    </tr>\n",
       "    <tr>\n",
       "      <th>Country_Region</th>\n",
       "      <th></th>\n",
       "      <th></th>\n",
       "      <th></th>\n",
       "      <th></th>\n",
       "    </tr>\n",
       "  </thead>\n",
       "  <tbody>\n",
       "    <tr>\n",
       "      <th>Afghanistan</th>\n",
       "      <td>48229</td>\n",
       "      <td>1956</td>\n",
       "      <td>38200</td>\n",
       "      <td>8073.0</td>\n",
       "    </tr>\n",
       "    <tr>\n",
       "      <th>Albania</th>\n",
       "      <td>47742</td>\n",
       "      <td>989</td>\n",
       "      <td>24520</td>\n",
       "      <td>22233.0</td>\n",
       "    </tr>\n",
       "    <tr>\n",
       "      <th>Algeria</th>\n",
       "      <td>91638</td>\n",
       "      <td>2584</td>\n",
       "      <td>60028</td>\n",
       "      <td>29026.0</td>\n",
       "    </tr>\n",
       "    <tr>\n",
       "      <th>Andorra</th>\n",
       "      <td>7288</td>\n",
       "      <td>78</td>\n",
       "      <td>6629</td>\n",
       "      <td>581.0</td>\n",
       "    </tr>\n",
       "    <tr>\n",
       "      <th>Angola</th>\n",
       "      <td>16161</td>\n",
       "      <td>366</td>\n",
       "      <td>8841</td>\n",
       "      <td>6954.0</td>\n",
       "    </tr>\n",
       "    <tr>\n",
       "      <th>...</th>\n",
       "      <td>...</td>\n",
       "      <td>...</td>\n",
       "      <td>...</td>\n",
       "      <td>...</td>\n",
       "    </tr>\n",
       "    <tr>\n",
       "      <th>Vietnam</th>\n",
       "      <td>1395</td>\n",
       "      <td>35</td>\n",
       "      <td>1238</td>\n",
       "      <td>122.0</td>\n",
       "    </tr>\n",
       "    <tr>\n",
       "      <th>West Bank and Gaza</th>\n",
       "      <td>108099</td>\n",
       "      <td>961</td>\n",
       "      <td>83123</td>\n",
       "      <td>24015.0</td>\n",
       "    </tr>\n",
       "    <tr>\n",
       "      <th>Yemen</th>\n",
       "      <td>2083</td>\n",
       "      <td>606</td>\n",
       "      <td>1383</td>\n",
       "      <td>94.0</td>\n",
       "    </tr>\n",
       "    <tr>\n",
       "      <th>Zambia</th>\n",
       "      <td>18217</td>\n",
       "      <td>366</td>\n",
       "      <td>17339</td>\n",
       "      <td>512.0</td>\n",
       "    </tr>\n",
       "    <tr>\n",
       "      <th>Zimbabwe</th>\n",
       "      <td>11219</td>\n",
       "      <td>307</td>\n",
       "      <td>9359</td>\n",
       "      <td>1553.0</td>\n",
       "    </tr>\n",
       "  </tbody>\n",
       "</table>\n",
       "<p>191 rows × 4 columns</p>\n",
       "</div>"
      ],
      "text/plain": [
       "                    Confirmed  Deaths  Recovered   Active\n",
       "Country_Region                                           \n",
       "Afghanistan             48229    1956      38200   8073.0\n",
       "Albania                 47742     989      24520  22233.0\n",
       "Algeria                 91638    2584      60028  29026.0\n",
       "Andorra                  7288      78       6629    581.0\n",
       "Angola                  16161     366       8841   6954.0\n",
       "...                       ...     ...        ...      ...\n",
       "Vietnam                  1395      35       1238    122.0\n",
       "West Bank and Gaza     108099     961      83123  24015.0\n",
       "Yemen                    2083     606       1383     94.0\n",
       "Zambia                  18217     366      17339    512.0\n",
       "Zimbabwe                11219     307       9359   1553.0\n",
       "\n",
       "[191 rows x 4 columns]"
      ]
     },
     "execution_count": 5,
     "metadata": {},
     "output_type": "execute_result"
    }
   ],
   "source": [
    "# 2. Write a Python program to get the latest number of confirmed, deaths, recovered and active cases\n",
    "# of Novel Coronavirus (COVID-19) Country wise.\n",
    "\n",
    "my_temp1 = my_frame.groupby(['Country_Region'])['Confirmed', 'Deaths', 'Recovered', 'Active'].max()\n",
    "\n",
    "my_temp1"
   ]
  },
  {
   "cell_type": "markdown",
   "metadata": {
    "papermill": {
     "duration": 0.023096,
     "end_time": "2020-12-15T15:34:17.279439",
     "exception": false,
     "start_time": "2020-12-15T15:34:17.256343",
     "status": "completed"
    },
    "tags": []
   },
   "source": [
    "# Task # 3"
   ]
  },
  {
   "cell_type": "code",
   "execution_count": 6,
   "metadata": {
    "execution": {
     "iopub.execute_input": "2020-12-15T15:34:17.332278Z",
     "iopub.status.busy": "2020-12-15T15:34:17.331608Z",
     "iopub.status.idle": "2020-12-15T15:34:17.353765Z",
     "shell.execute_reply": "2020-12-15T15:34:17.354298Z"
    },
    "papermill": {
     "duration": 0.05153,
     "end_time": "2020-12-15T15:34:17.354449",
     "exception": false,
     "start_time": "2020-12-15T15:34:17.302919",
     "status": "completed"
    },
    "tags": []
   },
   "outputs": [
    {
     "name": "stderr",
     "output_type": "stream",
     "text": [
      "/opt/conda/lib/python3.7/site-packages/ipykernel_launcher.py:4: FutureWarning: Indexing with multiple keys (implicitly converted to a tuple of keys) will be deprecated, use a list instead.\n",
      "  after removing the cwd from sys.path.\n"
     ]
    },
    {
     "data": {
      "text/html": [
       "<div>\n",
       "<style scoped>\n",
       "    .dataframe tbody tr th:only-of-type {\n",
       "        vertical-align: middle;\n",
       "    }\n",
       "\n",
       "    .dataframe tbody tr th {\n",
       "        vertical-align: top;\n",
       "    }\n",
       "\n",
       "    .dataframe thead th {\n",
       "        text-align: right;\n",
       "    }\n",
       "</style>\n",
       "<table border=\"1\" class=\"dataframe\">\n",
       "  <thead>\n",
       "    <tr style=\"text-align: right;\">\n",
       "      <th></th>\n",
       "      <th></th>\n",
       "      <th>Confirmed</th>\n",
       "      <th>Deaths</th>\n",
       "      <th>Recovered</th>\n",
       "    </tr>\n",
       "    <tr>\n",
       "      <th>Country_Region</th>\n",
       "      <th>Province_State</th>\n",
       "      <th></th>\n",
       "      <th></th>\n",
       "      <th></th>\n",
       "    </tr>\n",
       "  </thead>\n",
       "  <tbody>\n",
       "    <tr>\n",
       "      <th rowspan=\"5\" valign=\"top\">Australia</th>\n",
       "      <th>Australian Capital Territory</th>\n",
       "      <td>117</td>\n",
       "      <td>3</td>\n",
       "      <td>114</td>\n",
       "    </tr>\n",
       "    <tr>\n",
       "      <th>New South Wales</th>\n",
       "      <td>4642</td>\n",
       "      <td>53</td>\n",
       "      <td>3191</td>\n",
       "    </tr>\n",
       "    <tr>\n",
       "      <th>Northern Territory</th>\n",
       "      <td>62</td>\n",
       "      <td>0</td>\n",
       "      <td>52</td>\n",
       "    </tr>\n",
       "    <tr>\n",
       "      <th>Queensland</th>\n",
       "      <td>1226</td>\n",
       "      <td>6</td>\n",
       "      <td>1202</td>\n",
       "    </tr>\n",
       "    <tr>\n",
       "      <th>South Australia</th>\n",
       "      <td>562</td>\n",
       "      <td>4</td>\n",
       "      <td>558</td>\n",
       "    </tr>\n",
       "    <tr>\n",
       "      <th>...</th>\n",
       "      <th>...</th>\n",
       "      <td>...</td>\n",
       "      <td>...</td>\n",
       "      <td>...</td>\n",
       "    </tr>\n",
       "    <tr>\n",
       "      <th rowspan=\"5\" valign=\"top\">United Kingdom</th>\n",
       "      <th>Northern Ireland</th>\n",
       "      <td>57733</td>\n",
       "      <td>1120</td>\n",
       "      <td>0</td>\n",
       "    </tr>\n",
       "    <tr>\n",
       "      <th>Scotland</th>\n",
       "      <td>105370</td>\n",
       "      <td>4109</td>\n",
       "      <td>0</td>\n",
       "    </tr>\n",
       "    <tr>\n",
       "      <th>Turks and Caicos Islands</th>\n",
       "      <td>769</td>\n",
       "      <td>6</td>\n",
       "      <td>741</td>\n",
       "    </tr>\n",
       "    <tr>\n",
       "      <th>Unknown</th>\n",
       "      <td>0</td>\n",
       "      <td>0</td>\n",
       "      <td>0</td>\n",
       "    </tr>\n",
       "    <tr>\n",
       "      <th>Wales</th>\n",
       "      <td>100725</td>\n",
       "      <td>2849</td>\n",
       "      <td>0</td>\n",
       "    </tr>\n",
       "  </tbody>\n",
       "</table>\n",
       "<p>590 rows × 3 columns</p>\n",
       "</div>"
      ],
      "text/plain": [
       "                                             Confirmed  Deaths  Recovered\n",
       "Country_Region Province_State                                            \n",
       "Australia      Australian Capital Territory        117       3        114\n",
       "               New South Wales                    4642      53       3191\n",
       "               Northern Territory                   62       0         52\n",
       "               Queensland                         1226       6       1202\n",
       "               South Australia                     562       4        558\n",
       "...                                                ...     ...        ...\n",
       "United Kingdom Northern Ireland                  57733    1120          0\n",
       "               Scotland                         105370    4109          0\n",
       "               Turks and Caicos Islands            769       6        741\n",
       "               Unknown                               0       0          0\n",
       "               Wales                            100725    2849          0\n",
       "\n",
       "[590 rows x 3 columns]"
      ]
     },
     "execution_count": 6,
     "metadata": {},
     "output_type": "execute_result"
    }
   ],
   "source": [
    "# 3. Write a Python program to get the latest number of confirmed deaths and \n",
    "# recovered people of Novel Coronavirus (COVID-19) cases Country/Region - Province/State wise.\n",
    "\n",
    "my_temp2 = my_frame.groupby(['Country_Region', 'Province_State'])['Confirmed', 'Deaths', 'Recovered'].max()\n",
    "\n",
    "my_temp2"
   ]
  },
  {
   "cell_type": "code",
   "execution_count": 7,
   "metadata": {
    "execution": {
     "iopub.execute_input": "2020-12-15T15:34:17.405598Z",
     "iopub.status.busy": "2020-12-15T15:34:17.404886Z",
     "iopub.status.idle": "2020-12-15T15:34:17.412042Z",
     "shell.execute_reply": "2020-12-15T15:34:17.412538Z"
    },
    "papermill": {
     "duration": 0.0343,
     "end_time": "2020-12-15T15:34:17.412727",
     "exception": false,
     "start_time": "2020-12-15T15:34:17.378427",
     "status": "completed"
    },
    "tags": []
   },
   "outputs": [
    {
     "data": {
      "text/plain": [
       "array(['Afghanistan', 'Albania', 'Algeria', 'Andorra', 'Angola',\n",
       "       'Antigua and Barbuda', 'Argentina', 'Armenia', 'Australia',\n",
       "       'Austria', 'Azerbaijan', 'Bahamas', 'Bahrain', 'Bangladesh',\n",
       "       'Barbados', 'Belarus', 'Belgium', 'Belize', 'Benin', 'Bhutan',\n",
       "       'Bolivia', 'Bosnia and Herzegovina', 'Botswana', 'Brazil',\n",
       "       'Brunei', 'Bulgaria', 'Burkina Faso', 'Burma', 'Burundi',\n",
       "       'Cabo Verde', 'Cambodia', 'Cameroon', 'Canada',\n",
       "       'Central African Republic', 'Chad', 'Chile', 'China', 'Colombia',\n",
       "       'Comoros', 'Congo (Brazzaville)', 'Congo (Kinshasa)', 'Costa Rica',\n",
       "       \"Cote d'Ivoire\", 'Croatia', 'Cuba', 'Cyprus', 'Czechia', 'Denmark',\n",
       "       'Diamond Princess', 'Djibouti', 'Dominica', 'Dominican Republic',\n",
       "       'Ecuador', 'Egypt', 'El Salvador', 'Equatorial Guinea', 'Eritrea',\n",
       "       'Estonia', 'Eswatini', 'Ethiopia', 'Fiji', 'Finland', 'France',\n",
       "       'Gabon', 'Gambia', 'Georgia', 'Germany', 'Ghana', 'Greece',\n",
       "       'Grenada', 'Guatemala', 'Guinea', 'Guinea-Bissau', 'Guyana',\n",
       "       'Haiti', 'Holy See', 'Honduras', 'Hungary', 'Iceland', 'India',\n",
       "       'Indonesia', 'Iran', 'Iraq', 'Ireland', 'Israel', 'Italy',\n",
       "       'Jamaica', 'Japan', 'Jordan', 'Kazakhstan', 'Kenya',\n",
       "       'Korea, South', 'Kosovo', 'Kuwait', 'Kyrgyzstan', 'Laos', 'Latvia',\n",
       "       'Lebanon', 'Lesotho', 'Liberia', 'Libya', 'Liechtenstein',\n",
       "       'Lithuania', 'Luxembourg', 'MS Zaandam', 'Madagascar', 'Malawi',\n",
       "       'Malaysia', 'Maldives', 'Mali', 'Malta', 'Marshall Islands',\n",
       "       'Mauritania', 'Mauritius', 'Mexico', 'Moldova', 'Monaco',\n",
       "       'Mongolia', 'Montenegro', 'Morocco', 'Mozambique', 'Namibia',\n",
       "       'Nepal', 'Netherlands', 'New Zealand', 'Nicaragua', 'Niger',\n",
       "       'Nigeria', 'North Macedonia', 'Norway', 'Oman', 'Pakistan',\n",
       "       'Panama', 'Papua New Guinea', 'Paraguay', 'Peru', 'Philippines',\n",
       "       'Poland', 'Portugal', 'Qatar', 'Romania', 'Russia', 'Rwanda',\n",
       "       'Saint Kitts and Nevis', 'Saint Lucia',\n",
       "       'Saint Vincent and the Grenadines', 'Samoa', 'San Marino',\n",
       "       'Sao Tome and Principe', 'Saudi Arabia', 'Senegal', 'Serbia',\n",
       "       'Seychelles', 'Sierra Leone', 'Singapore', 'Slovakia', 'Slovenia',\n",
       "       'Solomon Islands', 'Somalia', 'South Africa', 'South Sudan',\n",
       "       'Spain', 'Sri Lanka', 'Sudan', 'Suriname', 'Sweden', 'Switzerland',\n",
       "       'Syria', 'Taiwan*', 'Tajikistan', 'Tanzania', 'Thailand',\n",
       "       'Timor-Leste', 'Togo', 'Trinidad and Tobago', 'Tunisia', 'Turkey',\n",
       "       'US', 'Uganda', 'Ukraine', 'United Arab Emirates',\n",
       "       'United Kingdom', 'Uruguay', 'Uzbekistan', 'Vanuatu', 'Venezuela',\n",
       "       'Vietnam', 'West Bank and Gaza', 'Yemen', 'Zambia', 'Zimbabwe'],\n",
       "      dtype=object)"
      ]
     },
     "execution_count": 7,
     "metadata": {},
     "output_type": "execute_result"
    }
   ],
   "source": [
    "my_frame.Country_Region.unique()"
   ]
  },
  {
   "cell_type": "markdown",
   "metadata": {
    "papermill": {
     "duration": 0.024372,
     "end_time": "2020-12-15T15:34:17.462088",
     "exception": false,
     "start_time": "2020-12-15T15:34:17.437716",
     "status": "completed"
    },
    "tags": []
   },
   "source": [
    "# Task # 4"
   ]
  },
  {
   "cell_type": "code",
   "execution_count": 8,
   "metadata": {
    "execution": {
     "iopub.execute_input": "2020-12-15T15:34:17.532827Z",
     "iopub.status.busy": "2020-12-15T15:34:17.531906Z",
     "iopub.status.idle": "2020-12-15T15:34:17.536175Z",
     "shell.execute_reply": "2020-12-15T15:34:17.535656Z"
    },
    "papermill": {
     "duration": 0.049375,
     "end_time": "2020-12-15T15:34:17.536310",
     "exception": false,
     "start_time": "2020-12-15T15:34:17.486935",
     "status": "completed"
    },
    "tags": []
   },
   "outputs": [
    {
     "data": {
      "text/html": [
       "<div>\n",
       "<style scoped>\n",
       "    .dataframe tbody tr th:only-of-type {\n",
       "        vertical-align: middle;\n",
       "    }\n",
       "\n",
       "    .dataframe tbody tr th {\n",
       "        vertical-align: top;\n",
       "    }\n",
       "\n",
       "    .dataframe thead th {\n",
       "        text-align: right;\n",
       "    }\n",
       "</style>\n",
       "<table border=\"1\" class=\"dataframe\">\n",
       "  <thead>\n",
       "    <tr style=\"text-align: right;\">\n",
       "      <th></th>\n",
       "      <th>Province_State</th>\n",
       "      <th>Confirmed</th>\n",
       "      <th>Deaths</th>\n",
       "      <th>Recovered</th>\n",
       "    </tr>\n",
       "  </thead>\n",
       "  <tbody>\n",
       "    <tr>\n",
       "      <th>0</th>\n",
       "      <td>Anhui</td>\n",
       "      <td>992</td>\n",
       "      <td>6</td>\n",
       "      <td>986</td>\n",
       "    </tr>\n",
       "    <tr>\n",
       "      <th>1</th>\n",
       "      <td>Beijing</td>\n",
       "      <td>954</td>\n",
       "      <td>9</td>\n",
       "      <td>940</td>\n",
       "    </tr>\n",
       "    <tr>\n",
       "      <th>2</th>\n",
       "      <td>Chongqing</td>\n",
       "      <td>590</td>\n",
       "      <td>6</td>\n",
       "      <td>583</td>\n",
       "    </tr>\n",
       "    <tr>\n",
       "      <th>3</th>\n",
       "      <td>Fujian</td>\n",
       "      <td>502</td>\n",
       "      <td>1</td>\n",
       "      <td>460</td>\n",
       "    </tr>\n",
       "    <tr>\n",
       "      <th>4</th>\n",
       "      <td>Gansu</td>\n",
       "      <td>182</td>\n",
       "      <td>2</td>\n",
       "      <td>180</td>\n",
       "    </tr>\n",
       "    <tr>\n",
       "      <th>5</th>\n",
       "      <td>Guangdong</td>\n",
       "      <td>2016</td>\n",
       "      <td>8</td>\n",
       "      <td>1972</td>\n",
       "    </tr>\n",
       "    <tr>\n",
       "      <th>6</th>\n",
       "      <td>Guangxi</td>\n",
       "      <td>264</td>\n",
       "      <td>2</td>\n",
       "      <td>261</td>\n",
       "    </tr>\n",
       "    <tr>\n",
       "      <th>7</th>\n",
       "      <td>Guizhou</td>\n",
       "      <td>147</td>\n",
       "      <td>2</td>\n",
       "      <td>145</td>\n",
       "    </tr>\n",
       "    <tr>\n",
       "      <th>8</th>\n",
       "      <td>Hainan</td>\n",
       "      <td>171</td>\n",
       "      <td>6</td>\n",
       "      <td>165</td>\n",
       "    </tr>\n",
       "    <tr>\n",
       "      <th>9</th>\n",
       "      <td>Hebei</td>\n",
       "      <td>373</td>\n",
       "      <td>6</td>\n",
       "      <td>367</td>\n",
       "    </tr>\n",
       "    <tr>\n",
       "      <th>10</th>\n",
       "      <td>Heilongjiang</td>\n",
       "      <td>956</td>\n",
       "      <td>13</td>\n",
       "      <td>936</td>\n",
       "    </tr>\n",
       "    <tr>\n",
       "      <th>11</th>\n",
       "      <td>Henan</td>\n",
       "      <td>1295</td>\n",
       "      <td>22</td>\n",
       "      <td>1266</td>\n",
       "    </tr>\n",
       "    <tr>\n",
       "      <th>12</th>\n",
       "      <td>Hong Kong</td>\n",
       "      <td>7446</td>\n",
       "      <td>115</td>\n",
       "      <td>6114</td>\n",
       "    </tr>\n",
       "    <tr>\n",
       "      <th>13</th>\n",
       "      <td>Hubei</td>\n",
       "      <td>68149</td>\n",
       "      <td>4512</td>\n",
       "      <td>63636</td>\n",
       "    </tr>\n",
       "    <tr>\n",
       "      <th>14</th>\n",
       "      <td>Hunan</td>\n",
       "      <td>1020</td>\n",
       "      <td>4</td>\n",
       "      <td>1016</td>\n",
       "    </tr>\n",
       "    <tr>\n",
       "      <th>15</th>\n",
       "      <td>Inner Mongolia</td>\n",
       "      <td>337</td>\n",
       "      <td>1</td>\n",
       "      <td>313</td>\n",
       "    </tr>\n",
       "    <tr>\n",
       "      <th>16</th>\n",
       "      <td>Jiangsu</td>\n",
       "      <td>684</td>\n",
       "      <td>0</td>\n",
       "      <td>675</td>\n",
       "    </tr>\n",
       "    <tr>\n",
       "      <th>17</th>\n",
       "      <td>Jiangxi</td>\n",
       "      <td>935</td>\n",
       "      <td>1</td>\n",
       "      <td>934</td>\n",
       "    </tr>\n",
       "    <tr>\n",
       "      <th>18</th>\n",
       "      <td>Jilin</td>\n",
       "      <td>157</td>\n",
       "      <td>2</td>\n",
       "      <td>155</td>\n",
       "    </tr>\n",
       "    <tr>\n",
       "      <th>19</th>\n",
       "      <td>Liaoning</td>\n",
       "      <td>289</td>\n",
       "      <td>2</td>\n",
       "      <td>287</td>\n",
       "    </tr>\n",
       "    <tr>\n",
       "      <th>20</th>\n",
       "      <td>Macau</td>\n",
       "      <td>46</td>\n",
       "      <td>0</td>\n",
       "      <td>46</td>\n",
       "    </tr>\n",
       "    <tr>\n",
       "      <th>21</th>\n",
       "      <td>Ningxia</td>\n",
       "      <td>75</td>\n",
       "      <td>0</td>\n",
       "      <td>75</td>\n",
       "    </tr>\n",
       "    <tr>\n",
       "      <th>22</th>\n",
       "      <td>Qinghai</td>\n",
       "      <td>18</td>\n",
       "      <td>0</td>\n",
       "      <td>18</td>\n",
       "    </tr>\n",
       "    <tr>\n",
       "      <th>23</th>\n",
       "      <td>Shaanxi</td>\n",
       "      <td>502</td>\n",
       "      <td>3</td>\n",
       "      <td>481</td>\n",
       "    </tr>\n",
       "    <tr>\n",
       "      <th>24</th>\n",
       "      <td>Shandong</td>\n",
       "      <td>858</td>\n",
       "      <td>7</td>\n",
       "      <td>841</td>\n",
       "    </tr>\n",
       "    <tr>\n",
       "      <th>25</th>\n",
       "      <td>Shanghai</td>\n",
       "      <td>1405</td>\n",
       "      <td>7</td>\n",
       "      <td>1309</td>\n",
       "    </tr>\n",
       "    <tr>\n",
       "      <th>26</th>\n",
       "      <td>Shanxi</td>\n",
       "      <td>222</td>\n",
       "      <td>0</td>\n",
       "      <td>218</td>\n",
       "    </tr>\n",
       "    <tr>\n",
       "      <th>27</th>\n",
       "      <td>Sichuan</td>\n",
       "      <td>829</td>\n",
       "      <td>3</td>\n",
       "      <td>792</td>\n",
       "    </tr>\n",
       "    <tr>\n",
       "      <th>28</th>\n",
       "      <td>Tianjin</td>\n",
       "      <td>302</td>\n",
       "      <td>3</td>\n",
       "      <td>295</td>\n",
       "    </tr>\n",
       "    <tr>\n",
       "      <th>29</th>\n",
       "      <td>Tibet</td>\n",
       "      <td>1</td>\n",
       "      <td>0</td>\n",
       "      <td>1</td>\n",
       "    </tr>\n",
       "    <tr>\n",
       "      <th>30</th>\n",
       "      <td>Xinjiang</td>\n",
       "      <td>980</td>\n",
       "      <td>3</td>\n",
       "      <td>977</td>\n",
       "    </tr>\n",
       "    <tr>\n",
       "      <th>31</th>\n",
       "      <td>Yunnan</td>\n",
       "      <td>224</td>\n",
       "      <td>2</td>\n",
       "      <td>210</td>\n",
       "    </tr>\n",
       "    <tr>\n",
       "      <th>32</th>\n",
       "      <td>Zhejiang</td>\n",
       "      <td>1296</td>\n",
       "      <td>1</td>\n",
       "      <td>1290</td>\n",
       "    </tr>\n",
       "  </tbody>\n",
       "</table>\n",
       "</div>"
      ],
      "text/plain": [
       "    Province_State  Confirmed  Deaths  Recovered\n",
       "0            Anhui        992       6        986\n",
       "1          Beijing        954       9        940\n",
       "2        Chongqing        590       6        583\n",
       "3           Fujian        502       1        460\n",
       "4            Gansu        182       2        180\n",
       "5        Guangdong       2016       8       1972\n",
       "6          Guangxi        264       2        261\n",
       "7          Guizhou        147       2        145\n",
       "8           Hainan        171       6        165\n",
       "9            Hebei        373       6        367\n",
       "10    Heilongjiang        956      13        936\n",
       "11           Henan       1295      22       1266\n",
       "12       Hong Kong       7446     115       6114\n",
       "13           Hubei      68149    4512      63636\n",
       "14           Hunan       1020       4       1016\n",
       "15  Inner Mongolia        337       1        313\n",
       "16         Jiangsu        684       0        675\n",
       "17         Jiangxi        935       1        934\n",
       "18           Jilin        157       2        155\n",
       "19        Liaoning        289       2        287\n",
       "20           Macau         46       0         46\n",
       "21         Ningxia         75       0         75\n",
       "22         Qinghai         18       0         18\n",
       "23         Shaanxi        502       3        481\n",
       "24        Shandong        858       7        841\n",
       "25        Shanghai       1405       7       1309\n",
       "26          Shanxi        222       0        218\n",
       "27         Sichuan        829       3        792\n",
       "28         Tianjin        302       3        295\n",
       "29           Tibet          1       0          1\n",
       "30        Xinjiang        980       3        977\n",
       "31          Yunnan        224       2        210\n",
       "32        Zhejiang       1296       1       1290"
      ]
     },
     "execution_count": 8,
     "metadata": {},
     "output_type": "execute_result"
    }
   ],
   "source": [
    "# 4. Write a Python program to get the Chinese province wise cases of\n",
    "# confirmed, deaths and recovered cases of Novel Coronavirus (COVID-19). \n",
    "\n",
    "country_china = my_frame[my_frame['Country_Region'] == 'China']\n",
    "\n",
    "province_china = country_china[['Province_State', 'Confirmed', 'Deaths', 'Recovered']]\n",
    "\n",
    "province_china = province_china.reset_index(drop = True)\n",
    "\n",
    "province_china"
   ]
  },
  {
   "cell_type": "markdown",
   "metadata": {
    "papermill": {
     "duration": 0.025432,
     "end_time": "2020-12-15T15:34:17.587449",
     "exception": false,
     "start_time": "2020-12-15T15:34:17.562017",
     "status": "completed"
    },
    "tags": []
   },
   "source": [
    "# Task # 5"
   ]
  },
  {
   "cell_type": "code",
   "execution_count": 9,
   "metadata": {
    "execution": {
     "iopub.execute_input": "2020-12-15T15:34:17.643248Z",
     "iopub.status.busy": "2020-12-15T15:34:17.642182Z",
     "iopub.status.idle": "2020-12-15T15:34:17.660587Z",
     "shell.execute_reply": "2020-12-15T15:34:17.659911Z"
    },
    "papermill": {
     "duration": 0.047229,
     "end_time": "2020-12-15T15:34:17.660698",
     "exception": false,
     "start_time": "2020-12-15T15:34:17.613469",
     "status": "completed"
    },
    "tags": []
   },
   "outputs": [
    {
     "data": {
      "text/html": [
       "<div>\n",
       "<style scoped>\n",
       "    .dataframe tbody tr th:only-of-type {\n",
       "        vertical-align: middle;\n",
       "    }\n",
       "\n",
       "    .dataframe tbody tr th {\n",
       "        vertical-align: top;\n",
       "    }\n",
       "\n",
       "    .dataframe thead th {\n",
       "        text-align: right;\n",
       "    }\n",
       "</style>\n",
       "<table border=\"1\" class=\"dataframe\">\n",
       "  <thead>\n",
       "    <tr style=\"text-align: right;\">\n",
       "      <th></th>\n",
       "      <th>Country_Region</th>\n",
       "      <th>Deaths</th>\n",
       "    </tr>\n",
       "  </thead>\n",
       "  <tbody>\n",
       "    <tr>\n",
       "      <th>0</th>\n",
       "      <td>Afghanistan</td>\n",
       "      <td>1956</td>\n",
       "    </tr>\n",
       "    <tr>\n",
       "      <th>1</th>\n",
       "      <td>Albania</td>\n",
       "      <td>989</td>\n",
       "    </tr>\n",
       "    <tr>\n",
       "      <th>2</th>\n",
       "      <td>Algeria</td>\n",
       "      <td>2584</td>\n",
       "    </tr>\n",
       "    <tr>\n",
       "      <th>3</th>\n",
       "      <td>Andorra</td>\n",
       "      <td>78</td>\n",
       "    </tr>\n",
       "    <tr>\n",
       "      <th>4</th>\n",
       "      <td>Angola</td>\n",
       "      <td>366</td>\n",
       "    </tr>\n",
       "    <tr>\n",
       "      <th>...</th>\n",
       "      <td>...</td>\n",
       "      <td>...</td>\n",
       "    </tr>\n",
       "    <tr>\n",
       "      <th>186</th>\n",
       "      <td>Vietnam</td>\n",
       "      <td>35</td>\n",
       "    </tr>\n",
       "    <tr>\n",
       "      <th>187</th>\n",
       "      <td>West Bank and Gaza</td>\n",
       "      <td>961</td>\n",
       "    </tr>\n",
       "    <tr>\n",
       "      <th>188</th>\n",
       "      <td>Yemen</td>\n",
       "      <td>606</td>\n",
       "    </tr>\n",
       "    <tr>\n",
       "      <th>189</th>\n",
       "      <td>Zambia</td>\n",
       "      <td>366</td>\n",
       "    </tr>\n",
       "    <tr>\n",
       "      <th>190</th>\n",
       "      <td>Zimbabwe</td>\n",
       "      <td>307</td>\n",
       "    </tr>\n",
       "  </tbody>\n",
       "</table>\n",
       "<p>191 rows × 2 columns</p>\n",
       "</div>"
      ],
      "text/plain": [
       "         Country_Region  Deaths\n",
       "0           Afghanistan    1956\n",
       "1               Albania     989\n",
       "2               Algeria    2584\n",
       "3               Andorra      78\n",
       "4                Angola     366\n",
       "..                  ...     ...\n",
       "186             Vietnam      35\n",
       "187  West Bank and Gaza     961\n",
       "188               Yemen     606\n",
       "189              Zambia     366\n",
       "190            Zimbabwe     307\n",
       "\n",
       "[191 rows x 2 columns]"
      ]
     },
     "execution_count": 9,
     "metadata": {},
     "output_type": "execute_result"
    }
   ],
   "source": [
    "# 5. Write a Python program to get the latest country wise deaths cases of Novel Coronavirus (COVID-19). \n",
    "\n",
    "country_wise = my_frame.groupby(['Country_Region']) ['Deaths'].sum().reset_index()\n",
    "\n",
    "country_wise"
   ]
  },
  {
   "cell_type": "markdown",
   "metadata": {
    "papermill": {
     "duration": 0.025865,
     "end_time": "2020-12-15T15:34:17.712961",
     "exception": false,
     "start_time": "2020-12-15T15:34:17.687096",
     "status": "completed"
    },
    "tags": []
   },
   "source": [
    "# Task # 6"
   ]
  },
  {
   "cell_type": "code",
   "execution_count": 10,
   "metadata": {
    "execution": {
     "iopub.execute_input": "2020-12-15T15:34:17.774403Z",
     "iopub.status.busy": "2020-12-15T15:34:17.773356Z",
     "iopub.status.idle": "2020-12-15T15:34:17.812248Z",
     "shell.execute_reply": "2020-12-15T15:34:17.812749Z"
    },
    "papermill": {
     "duration": 0.073834,
     "end_time": "2020-12-15T15:34:17.812897",
     "exception": false,
     "start_time": "2020-12-15T15:34:17.739063",
     "status": "completed"
    },
    "tags": []
   },
   "outputs": [
    {
     "name": "stderr",
     "output_type": "stream",
     "text": [
      "/opt/conda/lib/python3.7/site-packages/ipykernel_launcher.py:3: FutureWarning: Indexing with multiple keys (implicitly converted to a tuple of keys) will be deprecated, use a list instead.\n",
      "  This is separate from the ipykernel package so we can avoid doing imports until\n"
     ]
    },
    {
     "data": {
      "text/html": [
       "<div>\n",
       "<style scoped>\n",
       "    .dataframe tbody tr th:only-of-type {\n",
       "        vertical-align: middle;\n",
       "    }\n",
       "\n",
       "    .dataframe tbody tr th {\n",
       "        vertical-align: top;\n",
       "    }\n",
       "\n",
       "    .dataframe thead th {\n",
       "        text-align: right;\n",
       "    }\n",
       "</style>\n",
       "<table border=\"1\" class=\"dataframe\">\n",
       "  <thead>\n",
       "    <tr style=\"text-align: right;\">\n",
       "      <th></th>\n",
       "      <th>Active</th>\n",
       "      <th>Deaths</th>\n",
       "      <th>Recovered</th>\n",
       "    </tr>\n",
       "  </thead>\n",
       "  <tbody>\n",
       "    <tr>\n",
       "      <th>16</th>\n",
       "      <td>585367.0</td>\n",
       "      <td>17792</td>\n",
       "      <td>0</td>\n",
       "    </tr>\n",
       "    <tr>\n",
       "      <th>151</th>\n",
       "      <td>259162.0</td>\n",
       "      <td>2275</td>\n",
       "      <td>0</td>\n",
       "    </tr>\n",
       "    <tr>\n",
       "      <th>165</th>\n",
       "      <td>312584.0</td>\n",
       "      <td>7514</td>\n",
       "      <td>0</td>\n",
       "    </tr>\n",
       "  </tbody>\n",
       "</table>\n",
       "</div>"
      ],
      "text/plain": [
       "       Active  Deaths  Recovered\n",
       "16   585367.0   17792          0\n",
       "151  259162.0    2275          0\n",
       "165  312584.0    7514          0"
      ]
     },
     "execution_count": 10,
     "metadata": {},
     "output_type": "execute_result"
    }
   ],
   "source": [
    "# 6): Write a Python program to list countries with no cases of Novel Coronavirus (COVID-19) recovered. \n",
    "\n",
    "country_list = my_frame.groupby(['Country_Region']) ['Active', 'Deaths', 'Recovered'].sum().reset_index()\n",
    "\n",
    "#country_list = country_list.reset_index(drop = True)\n",
    "\n",
    "no_cases = country_list[country_list['Recovered'] == 0] [['Active', 'Deaths', 'Recovered']]\n",
    "\n",
    "no_cases"
   ]
  },
  {
   "cell_type": "markdown",
   "metadata": {
    "papermill": {
     "duration": 0.026667,
     "end_time": "2020-12-15T15:34:17.866983",
     "exception": false,
     "start_time": "2020-12-15T15:34:17.840316",
     "status": "completed"
    },
    "tags": []
   },
   "source": [
    "# Task # 7"
   ]
  },
  {
   "cell_type": "code",
   "execution_count": 11,
   "metadata": {
    "execution": {
     "iopub.execute_input": "2020-12-15T15:34:17.932320Z",
     "iopub.status.busy": "2020-12-15T15:34:17.931645Z",
     "iopub.status.idle": "2020-12-15T15:34:17.944515Z",
     "shell.execute_reply": "2020-12-15T15:34:17.945291Z"
    },
    "papermill": {
     "duration": 0.051168,
     "end_time": "2020-12-15T15:34:17.945485",
     "exception": false,
     "start_time": "2020-12-15T15:34:17.894317",
     "status": "completed"
    },
    "tags": []
   },
   "outputs": [
    {
     "name": "stderr",
     "output_type": "stream",
     "text": [
      "/opt/conda/lib/python3.7/site-packages/ipykernel_launcher.py:3: FutureWarning: Indexing with multiple keys (implicitly converted to a tuple of keys) will be deprecated, use a list instead.\n",
      "  This is separate from the ipykernel package so we can avoid doing imports until\n"
     ]
    },
    {
     "data": {
      "text/html": [
       "<div>\n",
       "<style scoped>\n",
       "    .dataframe tbody tr th:only-of-type {\n",
       "        vertical-align: middle;\n",
       "    }\n",
       "\n",
       "    .dataframe tbody tr th {\n",
       "        vertical-align: top;\n",
       "    }\n",
       "\n",
       "    .dataframe thead th {\n",
       "        text-align: right;\n",
       "    }\n",
       "</style>\n",
       "<table border=\"1\" class=\"dataframe\">\n",
       "  <thead>\n",
       "    <tr style=\"text-align: right;\">\n",
       "      <th></th>\n",
       "      <th>Country_Region</th>\n",
       "      <th>Confirmed</th>\n",
       "      <th>Deaths</th>\n",
       "    </tr>\n",
       "  </thead>\n",
       "  <tbody>\n",
       "  </tbody>\n",
       "</table>\n",
       "</div>"
      ],
      "text/plain": [
       "Empty DataFrame\n",
       "Columns: [Country_Region, Confirmed, Deaths]\n",
       "Index: []"
      ]
     },
     "execution_count": 11,
     "metadata": {},
     "output_type": "execute_result"
    }
   ],
   "source": [
    "# 7): Write a Python program to list countries with all cases of Novel Coronavirus (COVID-19) died.\n",
    "\n",
    "country_list = my_data.groupby('Country_Region') ['Confirmed', 'Deaths'].sum().reset_index()\n",
    "\n",
    "country_list = country_list.reset_index(drop = True)\n",
    "\n",
    "died_cases = country_list[country_list['Confirmed'] == country_list['Deaths']]\n",
    "died_cases = died_cases[['Country_Region', 'Confirmed', 'Deaths']]\n",
    "died_cases = died_cases[died_cases['Deaths'] > 0]\n",
    "\n",
    "died_cases"
   ]
  },
  {
   "cell_type": "markdown",
   "metadata": {
    "papermill": {
     "duration": 0.028227,
     "end_time": "2020-12-15T15:34:18.002204",
     "exception": false,
     "start_time": "2020-12-15T15:34:17.973977",
     "status": "completed"
    },
    "tags": []
   },
   "source": [
    "# Task # 8"
   ]
  },
  {
   "cell_type": "code",
   "execution_count": 12,
   "metadata": {
    "execution": {
     "iopub.execute_input": "2020-12-15T15:34:18.075202Z",
     "iopub.status.busy": "2020-12-15T15:34:18.069027Z",
     "iopub.status.idle": "2020-12-15T15:34:18.083129Z",
     "shell.execute_reply": "2020-12-15T15:34:18.083657Z"
    },
    "papermill": {
     "duration": 0.053148,
     "end_time": "2020-12-15T15:34:18.083798",
     "exception": false,
     "start_time": "2020-12-15T15:34:18.030650",
     "status": "completed"
    },
    "tags": []
   },
   "outputs": [
    {
     "name": "stderr",
     "output_type": "stream",
     "text": [
      "/opt/conda/lib/python3.7/site-packages/ipykernel_launcher.py:3: FutureWarning: Indexing with multiple keys (implicitly converted to a tuple of keys) will be deprecated, use a list instead.\n",
      "  This is separate from the ipykernel package so we can avoid doing imports until\n"
     ]
    },
    {
     "data": {
      "text/html": [
       "<div>\n",
       "<style scoped>\n",
       "    .dataframe tbody tr th:only-of-type {\n",
       "        vertical-align: middle;\n",
       "    }\n",
       "\n",
       "    .dataframe tbody tr th {\n",
       "        vertical-align: top;\n",
       "    }\n",
       "\n",
       "    .dataframe thead th {\n",
       "        text-align: right;\n",
       "    }\n",
       "</style>\n",
       "<table border=\"1\" class=\"dataframe\">\n",
       "  <thead>\n",
       "    <tr style=\"text-align: right;\">\n",
       "      <th></th>\n",
       "      <th>Country_Region</th>\n",
       "      <th>Confirmed</th>\n",
       "      <th>Recovered</th>\n",
       "    </tr>\n",
       "  </thead>\n",
       "  <tbody>\n",
       "    <tr>\n",
       "      <th>111</th>\n",
       "      <td>Marshall Islands</td>\n",
       "      <td>4</td>\n",
       "      <td>4</td>\n",
       "    </tr>\n",
       "    <tr>\n",
       "      <th>146</th>\n",
       "      <td>Samoa</td>\n",
       "      <td>2</td>\n",
       "      <td>2</td>\n",
       "    </tr>\n",
       "    <tr>\n",
       "      <th>184</th>\n",
       "      <td>Vanuatu</td>\n",
       "      <td>1</td>\n",
       "      <td>1</td>\n",
       "    </tr>\n",
       "  </tbody>\n",
       "</table>\n",
       "</div>"
      ],
      "text/plain": [
       "       Country_Region  Confirmed  Recovered\n",
       "111  Marshall Islands          4          4\n",
       "146             Samoa          2          2\n",
       "184           Vanuatu          1          1"
      ]
     },
     "execution_count": 12,
     "metadata": {},
     "output_type": "execute_result"
    }
   ],
   "source": [
    "# 8): Write a Python program to list countries with all cases of Novel Coronavirus (COVID-19) recovered. \n",
    "\n",
    "country_list = my_frame.groupby('Country_Region') ['Confirmed', 'Recovered'].sum().reset_index()\n",
    "\n",
    "#country_list = country_list.reset_index(drop = True)\n",
    "\n",
    "recovered_cases = country_list[country_list['Confirmed'] == country_list['Recovered']]\n",
    "recovered_cases = recovered_cases[['Country_Region', 'Confirmed', 'Recovered']]\n",
    "recovered_cases = recovered_cases[recovered_cases['Recovered'] > 0]\n",
    "\n",
    "recovered_cases"
   ]
  },
  {
   "cell_type": "markdown",
   "metadata": {
    "papermill": {
     "duration": 0.028917,
     "end_time": "2020-12-15T15:34:18.142126",
     "exception": false,
     "start_time": "2020-12-15T15:34:18.113209",
     "status": "completed"
    },
    "tags": []
   },
   "source": [
    "# Task # 9"
   ]
  },
  {
   "cell_type": "code",
   "execution_count": 13,
   "metadata": {
    "execution": {
     "iopub.execute_input": "2020-12-15T15:34:18.210174Z",
     "iopub.status.busy": "2020-12-15T15:34:18.209134Z",
     "iopub.status.idle": "2020-12-15T15:34:18.283805Z",
     "shell.execute_reply": "2020-12-15T15:34:18.282856Z"
    },
    "papermill": {
     "duration": 0.112646,
     "end_time": "2020-12-15T15:34:18.283979",
     "exception": false,
     "start_time": "2020-12-15T15:34:18.171333",
     "status": "completed"
    },
    "tags": []
   },
   "outputs": [
    {
     "data": {
      "text/html": [
       "<div>\n",
       "<style scoped>\n",
       "    .dataframe tbody tr th:only-of-type {\n",
       "        vertical-align: middle;\n",
       "    }\n",
       "\n",
       "    .dataframe tbody tr th {\n",
       "        vertical-align: top;\n",
       "    }\n",
       "\n",
       "    .dataframe thead th {\n",
       "        text-align: right;\n",
       "    }\n",
       "</style>\n",
       "<table border=\"1\" class=\"dataframe\">\n",
       "  <thead>\n",
       "    <tr style=\"text-align: right;\">\n",
       "      <th></th>\n",
       "      <th>Last_Update</th>\n",
       "      <th>Country_Region</th>\n",
       "      <th>Confirmed</th>\n",
       "      <th>Deaths</th>\n",
       "      <th>Recovered</th>\n",
       "    </tr>\n",
       "    <tr>\n",
       "      <th>Country_Region</th>\n",
       "      <th></th>\n",
       "      <th></th>\n",
       "      <th></th>\n",
       "      <th></th>\n",
       "      <th></th>\n",
       "    </tr>\n",
       "  </thead>\n",
       "  <tbody>\n",
       "    <tr>\n",
       "      <th>France</th>\n",
       "      <td>13-12-20 5:27</td>\n",
       "      <td>France</td>\n",
       "      <td>2348795</td>\n",
       "      <td>57210</td>\n",
       "      <td>152555</td>\n",
       "    </tr>\n",
       "    <tr>\n",
       "      <th>India</th>\n",
       "      <td>13-12-20 5:27</td>\n",
       "      <td>India</td>\n",
       "      <td>1876699</td>\n",
       "      <td>48139</td>\n",
       "      <td>1753922</td>\n",
       "    </tr>\n",
       "    <tr>\n",
       "      <th>Turkey</th>\n",
       "      <td>13-12-20 5:27</td>\n",
       "      <td>Turkey</td>\n",
       "      <td>1809809</td>\n",
       "      <td>16199</td>\n",
       "      <td>1581565</td>\n",
       "    </tr>\n",
       "    <tr>\n",
       "      <th>United Kingdom</th>\n",
       "      <td>13-12-20 5:27</td>\n",
       "      <td>United Kingdom</td>\n",
       "      <td>1567128</td>\n",
       "      <td>55948</td>\n",
       "      <td>1088</td>\n",
       "    </tr>\n",
       "    <tr>\n",
       "      <th>Argentina</th>\n",
       "      <td>13-12-20 5:27</td>\n",
       "      <td>Argentina</td>\n",
       "      <td>1494602</td>\n",
       "      <td>40668</td>\n",
       "      <td>1330160</td>\n",
       "    </tr>\n",
       "    <tr>\n",
       "      <th>Brazil</th>\n",
       "      <td>13-12-20 5:27</td>\n",
       "      <td>Brazil</td>\n",
       "      <td>1333763</td>\n",
       "      <td>43971</td>\n",
       "      <td>1166823</td>\n",
       "    </tr>\n",
       "    <tr>\n",
       "      <th>Poland</th>\n",
       "      <td>13-12-20 5:27</td>\n",
       "      <td>Poland</td>\n",
       "      <td>1126700</td>\n",
       "      <td>22676</td>\n",
       "      <td>840541</td>\n",
       "    </tr>\n",
       "    <tr>\n",
       "      <th>Iran</th>\n",
       "      <td>13-12-20 5:27</td>\n",
       "      <td>Iran</td>\n",
       "      <td>1100818</td>\n",
       "      <td>51949</td>\n",
       "      <td>800853</td>\n",
       "    </tr>\n",
       "    <tr>\n",
       "      <th>South Africa</th>\n",
       "      <td>13-12-20 5:27</td>\n",
       "      <td>South Africa</td>\n",
       "      <td>852965</td>\n",
       "      <td>23106</td>\n",
       "      <td>760118</td>\n",
       "    </tr>\n",
       "    <tr>\n",
       "      <th>Russia</th>\n",
       "      <td>13-12-20 5:27</td>\n",
       "      <td>Russia</td>\n",
       "      <td>685785</td>\n",
       "      <td>9798</td>\n",
       "      <td>524779</td>\n",
       "    </tr>\n",
       "  </tbody>\n",
       "</table>\n",
       "</div>"
      ],
      "text/plain": [
       "                  Last_Update  Country_Region  Confirmed  Deaths  Recovered\n",
       "Country_Region                                                             \n",
       "France          13-12-20 5:27          France    2348795   57210     152555\n",
       "India           13-12-20 5:27           India    1876699   48139    1753922\n",
       "Turkey          13-12-20 5:27          Turkey    1809809   16199    1581565\n",
       "United Kingdom  13-12-20 5:27  United Kingdom    1567128   55948       1088\n",
       "Argentina       13-12-20 5:27       Argentina    1494602   40668    1330160\n",
       "Brazil          13-12-20 5:27          Brazil    1333763   43971    1166823\n",
       "Poland          13-12-20 5:27          Poland    1126700   22676     840541\n",
       "Iran            13-12-20 5:27            Iran    1100818   51949     800853\n",
       "South Africa    13-12-20 5:27    South Africa     852965   23106     760118\n",
       "Russia          13-12-20 5:27          Russia     685785    9798     524779"
      ]
     },
     "execution_count": 13,
     "metadata": {},
     "output_type": "execute_result"
    }
   ],
   "source": [
    "# 9): Write a Python program to get the top 10 countries data \n",
    "# (Last Update, Country/Region, Confirmed, Deaths, Recovered) of Novel Coronavirus (COVID-19). \n",
    "\n",
    "top_countries = my_frame.groupby('Country_Region') [['Last_Update', 'Country_Region', 'Confirmed', 'Deaths', 'Recovered']]\n",
    "\n",
    "top_10 = top_countries.max().sort_values(by = 'Confirmed', ascending = False)[:10]\n",
    "\n",
    "top_10"
   ]
  },
  {
   "cell_type": "markdown",
   "metadata": {
    "papermill": {
     "duration": 0.029806,
     "end_time": "2020-12-15T15:34:18.345465",
     "exception": false,
     "start_time": "2020-12-15T15:34:18.315659",
     "status": "completed"
    },
    "tags": []
   },
   "source": [
    "# Task # 10"
   ]
  },
  {
   "cell_type": "code",
   "execution_count": 14,
   "metadata": {
    "execution": {
     "iopub.execute_input": "2020-12-15T15:34:18.419222Z",
     "iopub.status.busy": "2020-12-15T15:34:18.418097Z",
     "iopub.status.idle": "2020-12-15T15:34:19.867749Z",
     "shell.execute_reply": "2020-12-15T15:34:19.867054Z"
    },
    "papermill": {
     "duration": 1.492703,
     "end_time": "2020-12-15T15:34:19.867861",
     "exception": false,
     "start_time": "2020-12-15T15:34:18.375158",
     "status": "completed"
    },
    "tags": []
   },
   "outputs": [
    {
     "name": "stderr",
     "output_type": "stream",
     "text": [
      "/opt/conda/lib/python3.7/site-packages/ipykernel_launcher.py:4: FutureWarning: Indexing with multiple keys (implicitly converted to a tuple of keys) will be deprecated, use a list instead.\n",
      "  after removing the cwd from sys.path.\n"
     ]
    },
    {
     "data": {
      "image/png": "[encoded data removed]",
      "text/plain": [
       "<Figure size 864x432 with 1 Axes>"
      ]
     },
     "metadata": {
      "needs_background": "light"
     },
     "output_type": "display_data"
    }
   ],
   "source": [
    "# 10): Write a Python program to create a plot (lines) of total deaths, confirmed, recovered and \n",
    "#     active cases Country wise where deaths greater than 150.\n",
    "\n",
    "country_p_lst = my_frame.groupby(\"Country_Region\") ['Deaths', 'Confirmed', 'Recovered', 'Active'].sum().reset_index()\n",
    "\n",
    "country_p_lst = country_p_lst[country_p_lst['Deaths'] > 150]\n",
    "\n",
    "all_country = country_p_lst['Country_Region']\n",
    "tot_deaths = country_p_lst['Deaths']\n",
    "tot_confirmed = country_p_lst['Confirmed']\n",
    "tot_recovered = country_p_lst['Recovered']\n",
    "tot_active = country_p_lst['Active']\n",
    "\n",
    "fig = plt.figure(figsize = (12,6))\n",
    "\n",
    "plt.plot(all_country, tot_deaths, color = 'red')\n",
    "plt.plot(all_country, tot_confirmed, color = 'green')\n",
    "plt.plot(all_country, tot_recovered, color = 'blue')\n",
    "plt.plot(all_country, tot_active, color = 'yellow')\n",
    "\n",
    "plt.title('Covid19 All Countries Data', fontsize = 24, color = 'black', fontweight = 'bold')\n",
    "plt.xlabel('All Countries', fontsize = 18, fontweight = 'bold')\n",
    "plt.ylabel('All Cases', fontsize = 18, fontweight = 'bold')\n",
    "plt.xticks(rotation = 'vertical', fontsize = 10, color = 'darkviolet', fontweight = 'bold')\n",
    "plt.legend(['Death', 'Confirmed', 'Recovered', 'Active'])\n",
    "\n",
    "plt.tight_layout()\n",
    "plt.show()"
   ]
  },
  {
   "cell_type": "markdown",
   "metadata": {
    "papermill": {
     "duration": 0.032677,
     "end_time": "2020-12-15T15:34:19.933568",
     "exception": false,
     "start_time": "2020-12-15T15:34:19.900891",
     "status": "completed"
    },
    "tags": []
   },
   "source": [
    "# Task # 11"
   ]
  },
  {
   "cell_type": "code",
   "execution_count": 15,
   "metadata": {
    "execution": {
     "iopub.execute_input": "2020-12-15T15:34:20.018198Z",
     "iopub.status.busy": "2020-12-15T15:34:20.012420Z",
     "iopub.status.idle": "2020-12-15T15:34:20.890340Z",
     "shell.execute_reply": "2020-12-15T15:34:20.889802Z"
    },
    "papermill": {
     "duration": 0.923929,
     "end_time": "2020-12-15T15:34:20.890462",
     "exception": false,
     "start_time": "2020-12-15T15:34:19.966533",
     "status": "completed"
    },
    "tags": []
   },
   "outputs": [
    {
     "data": {
      "image/png": "[encoded data removed]",
      "text/plain": [
       "<Figure size 864x432 with 1 Axes>"
      ]
     },
     "metadata": {
      "needs_background": "light"
     },
     "output_type": "display_data"
    }
   ],
   "source": [
    "# 11): Write a Python program to visualize the state/province\n",
    "#      wise death cases of Novel Coronavirus (COVID-19) in USA.\n",
    "\n",
    "us_cases = my_frame[my_frame['Country_Region'] == 'US']\n",
    "\n",
    "us_cases = us_cases[us_cases.sum(axis = 1) > 0]\n",
    "\n",
    "us_cases = us_cases.groupby(['Province_State']) ['Deaths'].sum().reset_index()\n",
    "\n",
    "us_death = us_cases[us_cases['Deaths'] > 0]\n",
    "\n",
    "fig = plt.figure(figsize = (12,6))\n",
    "\n",
    "us_plot = plt.bar(us_cases['Province_State'], us_cases['Deaths'], color = 'blue')\n",
    "\n",
    "plt.xticks(rotation = 'vertical', fontsize = 13, color = 'darkviolet', fontweight = 'bold')\n",
    "\n",
    "plt.title('US Covid19 Death Cases', fontsize = 24, color = 'black', fontweight = 'bold')\n",
    "plt.xlabel('Province', fontsize = 18, fontweight = 'bold')\n",
    "plt.ylabel('US Death Cases', fontsize = 18, fontweight = 'bold')\n",
    "plt.legend(['Deaths'])\n",
    "\n",
    "plt.tight_layout()\n",
    "plt.show()"
   ]
  },
  {
   "cell_type": "markdown",
   "metadata": {
    "papermill": {
     "duration": 0.034868,
     "end_time": "2020-12-15T15:34:20.961008",
     "exception": false,
     "start_time": "2020-12-15T15:34:20.926140",
     "status": "completed"
    },
    "tags": []
   },
   "source": [
    "# Task # 12"
   ]
  },
  {
   "cell_type": "code",
   "execution_count": 16,
   "metadata": {
    "execution": {
     "iopub.execute_input": "2020-12-15T15:34:21.043834Z",
     "iopub.status.busy": "2020-12-15T15:34:21.043120Z",
     "iopub.status.idle": "2020-12-15T15:34:21.895983Z",
     "shell.execute_reply": "2020-12-15T15:34:21.895017Z"
    },
    "papermill": {
     "duration": 0.899793,
     "end_time": "2020-12-15T15:34:21.896097",
     "exception": false,
     "start_time": "2020-12-15T15:34:20.996304",
     "status": "completed"
    },
    "tags": []
   },
   "outputs": [
    {
     "data": {
      "image/png": "[encoded data removed]",
      "text/plain": [
       "<Figure size 864x432 with 1 Axes>"
      ]
     },
     "metadata": {
      "needs_background": "light"
     },
     "output_type": "display_data"
    }
   ],
   "source": [
    "# 12): Write a Python program to visualize the state/province \n",
    "#      wise Active cases of Novel Coronavirus (COVID-19) in USA\n",
    "\n",
    "us_cases = my_frame[my_frame['Country_Region'] == 'US']\n",
    "\n",
    "us_cases = us_cases[us_cases.sum(axis = 1) > 0]\n",
    "\n",
    "us_cases = us_cases.groupby(['Province_State']) ['Active'].sum().reset_index()\n",
    "\n",
    "us_active = us_cases[us_cases['Active'] > 0]\n",
    "\n",
    "fig = plt.figure(figsize = (12,6))\n",
    "\n",
    "us_plot = plt.bar(us_cases['Province_State'], us_cases['Active'], color = 'red')\n",
    "\n",
    "plt.xticks(rotation = 'vertical', fontsize = 13, color = 'darkviolet', fontweight = 'bold')\n",
    "\n",
    "plt.title('US Covid19 Active Cases', fontsize = 24, color = 'black', fontweight = 'bold')\n",
    "plt.xlabel('Province', fontsize = 18, fontweight = 'bold')\n",
    "plt.ylabel('US Active Cases', fontsize = 18, fontweight = 'bold')\n",
    "plt.legend(['Active'])\n",
    "\n",
    "plt.tight_layout()\n",
    "plt.show()"
   ]
  },
  {
   "cell_type": "markdown",
   "metadata": {
    "papermill": {
     "duration": 0.038484,
     "end_time": "2020-12-15T15:34:21.972712",
     "exception": false,
     "start_time": "2020-12-15T15:34:21.934228",
     "status": "completed"
    },
    "tags": []
   },
   "source": [
    "# Task # 13"
   ]
  },
  {
   "cell_type": "code",
   "execution_count": 17,
   "metadata": {
    "execution": {
     "iopub.execute_input": "2020-12-15T15:34:22.057433Z",
     "iopub.status.busy": "2020-12-15T15:34:22.056690Z",
     "iopub.status.idle": "2020-12-15T15:34:22.279075Z",
     "shell.execute_reply": "2020-12-15T15:34:22.279612Z"
    },
    "papermill": {
     "duration": 0.269381,
     "end_time": "2020-12-15T15:34:22.279770",
     "exception": false,
     "start_time": "2020-12-15T15:34:22.010389",
     "status": "completed"
    },
    "tags": []
   },
   "outputs": [
    {
     "name": "stderr",
     "output_type": "stream",
     "text": [
      "/opt/conda/lib/python3.7/site-packages/ipykernel_launcher.py:8: FutureWarning: Indexing with multiple keys (implicitly converted to a tuple of keys) will be deprecated, use a list instead.\n",
      "  \n"
     ]
    },
    {
     "data": {
      "image/png": "[encoded data removed]",
      "text/plain": [
       "<Figure size 864x432 with 1 Axes>"
      ]
     },
     "metadata": {
      "needs_background": "light"
     },
     "output_type": "display_data"
    }
   ],
   "source": [
    "# 13): Write a Python program to visualize the state/province wise combined number of\n",
    "#      confirmed, deaths, recovered, active Novel Coronavirus (COVID-19) cases in Pakistan.\n",
    "\n",
    "pak_cases = my_frame[my_frame['Country_Region'] == 'Pakistan']\n",
    "\n",
    "pak_cases = pak_cases[pak_cases.sum(axis = 1) > 0]\n",
    "\n",
    "pak_cases = pak_cases.groupby(['Province_State']) ['Confirmed', 'Deaths', 'Recovered', 'Active'].sum().reset_index()\n",
    "\n",
    "fig = plt.figure(figsize = (12,6))\n",
    "\n",
    "plt.plot(pak_cases['Province_State'], pak_cases['Confirmed'], color = 'red')\n",
    "plt.plot(pak_cases['Province_State'], pak_cases['Deaths'], color = 'green')\n",
    "plt.plot(pak_cases['Province_State'], pak_cases['Recovered'], color = 'blue')\n",
    "plt.plot(pak_cases['Province_State'], pak_cases['Active'], color = 'yellow')\n",
    "\n",
    "plt.xticks(rotation = 'vertical', fontsize = 13, color = 'darkviolet', fontweight = 'bold')\n",
    "\n",
    "plt.title('Pakistan Covid19 Cases', fontsize = 24, color = 'black', fontweight = 'bold')\n",
    "plt.xlabel('Province', fontsize = 18, fontweight = 'bold')\n",
    "plt.ylabel('All Cases', fontsize = 18, fontweight = 'bold')\n",
    "plt.legend(['Confirmed', 'Deaths', 'Recovered', 'Active'])\n",
    "\n",
    "plt.tight_layout()\n",
    "plt.show()"
   ]
  },
  {
   "cell_type": "markdown",
   "metadata": {
    "papermill": {
     "duration": 0.040256,
     "end_time": "2020-12-15T15:34:22.360074",
     "exception": false,
     "start_time": "2020-12-15T15:34:22.319818",
     "status": "completed"
    },
    "tags": []
   },
   "source": [
    "# Task # 14"
   ]
  },
  {
   "cell_type": "code",
   "execution_count": 18,
   "metadata": {
    "execution": {
     "iopub.execute_input": "2020-12-15T15:34:22.444533Z",
     "iopub.status.busy": "2020-12-15T15:34:22.443515Z",
     "iopub.status.idle": "2020-12-15T15:34:22.645945Z",
     "shell.execute_reply": "2020-12-15T15:34:22.646430Z"
    },
    "papermill": {
     "duration": 0.246141,
     "end_time": "2020-12-15T15:34:22.646574",
     "exception": false,
     "start_time": "2020-12-15T15:34:22.400433",
     "status": "completed"
    },
    "tags": []
   },
   "outputs": [
    {
     "name": "stderr",
     "output_type": "stream",
     "text": [
      "/opt/conda/lib/python3.7/site-packages/ipykernel_launcher.py:4: FutureWarning: Indexing with multiple keys (implicitly converted to a tuple of keys) will be deprecated, use a list instead.\n",
      "  after removing the cwd from sys.path.\n"
     ]
    },
    {
     "data": {
      "image/png": "[encoded data removed]",
      "text/plain": [
       "<Figure size 864x432 with 1 Axes>"
      ]
     },
     "metadata": {
      "needs_background": "light"
     },
     "output_type": "display_data"
    }
   ],
   "source": [
    "# 14): Write a Python program to visualize Worldwide Confirmed \n",
    "#      Novel Coronavirus (COVID-19) cases over time.\n",
    "\n",
    "world_cases = my_frame.groupby(\"Last_Update\") ['Last_Update', 'Confirmed', 'Active'].sum().reset_index()\n",
    "\n",
    "fig = plt.figure(figsize = (12, 6))\n",
    "\n",
    "world_plot = plt.plot(world_cases['Last_Update'], world_cases['Confirmed'], color = 'red')\n",
    "world_plot = plt.plot(world_cases['Last_Update'], world_cases['Active'], color = 'blue')\n",
    "\n",
    "plt.xticks(rotation = 'vertical', fontsize = 13, color = 'darkviolet', fontweight = 'bold')\n",
    "\n",
    "plt.title('World Wide Covid19 Cases', fontsize = 24, color = 'black', fontweight = 'bold')\n",
    "plt.xlabel('Cases By Last Date', fontsize = 18, fontweight = 'bold')\n",
    "plt.ylabel('World Wide Confirmed, Active Cases', fontsize = 18, fontweight = 'bold')\n",
    "plt.legend(['Confirmed', 'Active'])\n",
    "\n",
    "plt.tight_layout()\n",
    "plt.show()"
   ]
  }
 ],
 "metadata": {
  "kernelspec": {
   "display_name": "Python 3",
   "language": "python",
   "name": "python3"
  },
  "language_info": {
   "codemirror_mode": {
    "name": "ipython",
    "version": 3
   },
   "file_extension": ".py",
   "mimetype": "text/x-python",
   "name": "python",
   "nbconvert_exporter": "python",
   "pygments_lexer": "ipython3",
   "version": "3.7.6"
  },
  "papermill": {
   "duration": 11.958423,
   "end_time": "2020-12-15T15:34:23.768171",
   "environment_variables": {},
   "exception": null,
   "input_path": "__notebook__.ipynb",
   "output_path": "__notebook__.ipynb",
   "parameters": {},
   "start_time": "2020-12-15T15:34:11.809748",
   "version": "2.1.0"
  }
 },
 "nbformat": 4,
 "nbformat_minor": 4
}
